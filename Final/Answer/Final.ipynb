{
  "cells": [
    {
      "cell_type": "markdown",
      "id": "1129b171",
      "metadata": {
        "id": "1129b171"
      },
      "source": [
        "# Final Exam"
      ]
    },
    {
      "cell_type": "markdown",
      "id": "441a609b",
      "metadata": {
        "id": "441a609b"
      },
      "source": [
        "## Question-1"
      ]
    },
    {
      "cell_type": "code",
      "execution_count": null,
      "id": "a4bcc733",
      "metadata": {
        "id": "a4bcc733"
      },
      "outputs": [],
      "source": [
        "billinfo = input(\"Please enter the restaurants location and bills: \")\n",
        "bills = billinfo.split(',')\n",
        "print(bills)\n",
        "if  bills[0]== 'Bangladesh':\n",
        "    billlist = bills[1:]\n",
        "    billamount = []\n",
        "    tip = 0\n",
        "    for bill in billlist:\n",
        "        if 50<=float(bill)<=300:\n",
        "            \n",
        "            totalbill = float(bill)*1.15\n",
        "            tip = tip + float(bill)* 0.15\n",
        "            billamount.append(round(totalbill))\n",
        "        else:\n",
        "            billamount.append(round(float(bill)))\n",
        "    print(billamount)\n",
        "    print(\"Total tip: \", tip)\n",
        "else:\n",
        "    billlist = bills[1:]\n",
        "    billamount = []\n",
        "    tip = 0\n",
        "    for bill in billlist:\n",
        "        if 50<=float(bill)<=300:\n",
        "            \n",
        "            totalbill = float(bill)*1.20\n",
        "            tip = tip + float(bill)* 0.20\n",
        "            billamount.append(round(totalbill))\n",
        "        else:\n",
        "            billamount.append(round(float(bill)))\n",
        "    print(billamount)\n",
        "    print(\"Total tip: \", rtip)"
      ]
    },
    {
      "cell_type": "markdown",
      "id": "7227a96a",
      "metadata": {
        "id": "7227a96a"
      },
      "source": [
        "## Question-2"
      ]
    },
    {
      "cell_type": "code",
      "execution_count": null,
      "id": "de6fcdb7",
      "metadata": {
        "id": "de6fcdb7",
        "outputId": "5a111ac2-c646-480f-cb8a-18faeabc7682"
      },
      "outputs": [
        {
          "name": "stdout",
          "output_type": "stream",
          "text": [
            "[(12, 15, 10, 14), (19, 13, 17, 11)]\n"
          ]
        }
      ],
      "source": [
        "dict1={1: (\"Leo\", \"Kim\", \"Joe\", \"Brad\"), 2:(12, 15, 10, 14), 3: (\"Joey\", \"Tim\", \"Jen\", \"Jack\"), 4:(19, 13, 17, 11)}\n",
        "keys = dict1.keys()\n",
        "element = dict1[1]\n",
        "names = []\n",
        "number= []\n",
        "for i in range(1, len(keys)+1):\n",
        "    if i %2 != 0:\n",
        "        names.append(dict1[i])\n",
        "    else:\n",
        "        number.append(dict1[i])\n",
        "    \n",
        "print(number)"
      ]
    },
    {
      "cell_type": "markdown",
      "id": "df7d04bb",
      "metadata": {
        "id": "df7d04bb"
      },
      "source": [
        "## Question-3"
      ]
    },
    {
      "cell_type": "code",
      "execution_count": null,
      "id": "3b9d167c",
      "metadata": {
        "id": "3b9d167c",
        "outputId": "7cbe1edb-c0fb-40bf-8789-3e33553fd509"
      },
      "outputs": [
        {
          "name": "stdout",
          "output_type": "stream",
          "text": [
            "[7, 9, 6, 8, 7]\n",
            "8.0\n"
          ]
        }
      ],
      "source": [
        "def calc_mark(quizmark):\n",
        "    qm = quizmark.split(' ,')\n",
        "    quizm = []\n",
        "    for mark in qm:\n",
        "        quizm.append(round(float(mark)))\n",
        "    sorted_marks = sorted(quizm, reverse = True)\n",
        "    n = len(sorted_marks)\n",
        "    s = 0\n",
        "    if n<= 3:\n",
        "        for i in sorted_marks[:(n-1)]:\n",
        "            s = s+i\n",
        "        avgmarks = s/(n-1)\n",
        "    else:\n",
        "        for i in sorted_marks[:(n-2)]:\n",
        "            s = s+i\n",
        "        avgmarks = s/(n-2)\n",
        "    print(quizm)\n",
        "    print(avgmarks)\n",
        "\n",
        "    \n",
        "#calc_mark(\"10 , 6 , 8\")    \n",
        "calc_mark(\"7 , 9 , 6 , 8 , 7\")"
      ]
    },
    {
      "cell_type": "code",
      "execution_count": null,
      "id": "71c4f84a",
      "metadata": {
        "id": "71c4f84a"
      },
      "outputs": [],
      "source": []
    }
  ],
  "metadata": {
    "kernelspec": {
      "display_name": "Python 3 (ipykernel)",
      "language": "python",
      "name": "python3"
    },
    "language_info": {
      "codemirror_mode": {
        "name": "ipython",
        "version": 3
      },
      "file_extension": ".py",
      "mimetype": "text/x-python",
      "name": "python",
      "nbconvert_exporter": "python",
      "pygments_lexer": "ipython3",
      "version": "3.9.7"
    },
    "colab": {
      "provenance": []
    }
  },
  "nbformat": 4,
  "nbformat_minor": 5
}