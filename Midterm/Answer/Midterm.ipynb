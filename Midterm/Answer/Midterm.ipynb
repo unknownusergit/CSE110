{
  "cells": [
    {
      "cell_type": "markdown",
      "id": "4a44bdc6",
      "metadata": {
        "id": "4a44bdc6"
      },
      "source": [
        "# 𝐂𝐒𝐄𝟏𝟏𝟎: 𝐏𝐫𝐨𝐠𝐫𝐚𝐦𝐦𝐢𝐧𝐠 𝐋𝐚𝐧𝐠𝐮𝐚𝐠𝐞 𝐈\n",
        "## Midterm Exam"
      ]
    },
    {
      "cell_type": "markdown",
      "id": "baf15c52",
      "metadata": {
        "id": "baf15c52"
      },
      "source": [
        "# Question:1\n",
        "## Solution:"
      ]
    },
    {
      "cell_type": "code",
      "execution_count": null,
      "id": "c6e29b14",
      "metadata": {
        "id": "c6e29b14",
        "outputId": "395b5023-1618-482f-ae53-e43f749e082f"
      },
      "outputs": [
        {
          "name": "stdout",
          "output_type": "stream",
          "text": [
            "Please enter two numbers separated by a space: 21 30\n",
            "You have entered the number:  21 and 30\n",
            "23\n",
            "27\n",
            "30\n"
          ]
        }
      ],
      "source": [
        "i, j = input('Please enter two numbers separated by a space: ').split()\n",
        "a = int(i)\n",
        "b = int(j)\n",
        "print('You have entered the number: ', a,'and', b)\n",
        "if b-a >= 5:\n",
        "    for n in range(a, b+1):\n",
        "        S = (n**3) - (3*n) - 2\n",
        "        if S%7 == 0:\n",
        "            print(n)\n",
        "else:\n",
        "    print(\"Invalid Input!\")\n",
        "    print('Please note that the second number must be greater than the first number by at least 5')\n",
        "    "
      ]
    },
    {
      "cell_type": "markdown",
      "id": "bce7c3b0",
      "metadata": {
        "id": "bce7c3b0"
      },
      "source": [
        "# Question:2\n",
        "## Solution:"
      ]
    },
    {
      "cell_type": "code",
      "execution_count": null,
      "id": "2caa8a47",
      "metadata": {
        "id": "2caa8a47",
        "outputId": "cae187da-ae3e-46ab-8cfb-66266a6cfc46"
      },
      "outputs": [
        {
          "name": "stdout",
          "output_type": "stream",
          "text": [
            "Please enter five numbers separated by a space: 13 13 13 13 13\n",
            "You have entered the following numbers:  13 13 13 13 and 13\n",
            "Together We Stand\n"
          ]
        }
      ],
      "source": [
        "n1, n2, n3, n4, n5 = input('Please enter five numbers separated by a space: ').split()\n",
        "a = int(n1)\n",
        "b = int(n2)\n",
        "c = int(n3)\n",
        "d = int(n4)\n",
        "e = int(n5)\n",
        "print('You have entered the following numbers: ', a, b, c, d, 'and', e)\n",
        "if b/a == c/b == d/c == e/d:\n",
        "    print('Together We Stand')\n",
        "else:\n",
        "    print('Together We Fall')"
      ]
    },
    {
      "cell_type": "code",
      "execution_count": null,
      "id": "c7fc9e68",
      "metadata": {
        "id": "c7fc9e68"
      },
      "outputs": [],
      "source": []
    }
  ],
  "metadata": {
    "kernelspec": {
      "display_name": "Python 3",
      "language": "python",
      "name": "python3"
    },
    "language_info": {
      "codemirror_mode": {
        "name": "ipython",
        "version": 3
      },
      "file_extension": ".py",
      "mimetype": "text/x-python",
      "name": "python",
      "nbconvert_exporter": "python",
      "pygments_lexer": "ipython3",
      "version": "3.8.8"
    },
    "colab": {
      "provenance": []
    }
  },
  "nbformat": 4,
  "nbformat_minor": 5
}